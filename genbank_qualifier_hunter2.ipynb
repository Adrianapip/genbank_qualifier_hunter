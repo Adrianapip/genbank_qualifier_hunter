{
 "cells": [
  {
   "cell_type": "markdown",
   "metadata": {},
   "source": [
    "# How to get gene sequences from a set of genbank records\n",
    "\n",
    "I want to perform a multiple sequence alignment on a singular gene (glycoprotein E) using sequences from a BioProject containing multiple genbank records: \n",
    "\n",
    "[BioProject PRJNA344504](https://www.ncbi.nlm.nih.gov/bioproject/?term=PRJNA344504) \n",
    "from the publication [Zika virus evolution and spread in the Americas](https://www.ncbi.nlm.nih.gov/pmc/articles/PMC5563848/#SD1)\n",
    "\n",
    "Genbank records, however, are complete records containing all the sequence information. How do I to remove only the information that I need (in this case all the glycoprotein E sequences) and copy them into a new file?\n",
    "\n",
    "After downloading all the records into one file, it will be opened in the following script, which will then:\n",
    "\n",
    "1. parse through each genbank record,\n",
    "2. search for the identifying feature and qualifier, and if there is a match, \n",
    "3. find that feature's sequence, and\n",
    "4. save it to a new file in FASTA format\n",
    "\n",
    "There are four arguments that need to be specified when calling genbank_qualifier_hunter:\n",
    "\n",
    "gb_file: the location and name of your genbank file\n",
    "feature_type: the label of the required feature in the genbank records\n",
    "qualifier: the identifying label within that feature object\n",
    "qualifier_value: the specific name of your gene or area of interest\n",
    "\n",
    "In addition to the new file that is created, you will receive a message telling you how many records were copied into your new file. \n",
    "\n",
    "At this point I usually manually inspect the file before applying my alignment.\n"
   ]
  },
  {
   "cell_type": "code",
   "execution_count": 1,
   "metadata": {
    "collapsed": false
   },
   "outputs": [
    {
     "name": "stdout",
     "output_type": "stream",
     "text": [
      "Your new file <closed file 'env-only_PRJNA344504.gb', mode 'w+' at 0x1046360c0> contains 109 fasta records.\n"
     ]
    }
   ],
   "source": [
    "from Bio import SeqIO\n",
    "\n",
    "new_file = open('env-only_PRJNA344504.gb', 'w+')\n",
    "\n",
    "def genbank_qualifier_hunter(gb_file, feature_type, qualifier, qualifier_value):\n",
    "    \n",
    "    answer = ''\n",
    "    count = 0  \n",
    "    for gb_record in SeqIO.parse(open(gb_file,'r'), 'genbank'):\n",
    "        \n",
    "        for (index, feature) in enumerate(gb_record.features):\n",
    "            if feature.type == feature_type:\n",
    "                if qualifier in feature.qualifiers:\n",
    "                    value = feature.qualifiers.get(qualifier)\n",
    "                    if value == qualifier_value:\n",
    "                        sequence = (feature.location.extract(gb_record.seq))                       \n",
    "                        answer+=\">\" + gb_record.id + ' | ' + gb_record.description + ' ' + str(feature.location) + '\\n'\n",
    "                        answer+=sequence + '\\n' + '\\n'\n",
    "                        count += 1\n",
    "    new_file.write(str(answer))\n",
    "    new_file.close()\n",
    "    return count\n",
    "\n",
    "total_records = genbank_qualifier_hunter('Zika Virus/PRJNA344504.gb', 'mat_peptide', 'product', ['envelope'])\n",
    "print('Your new file ' + str(new_file) + ' contains ' + str(total_records) + ' fasta records.')"
   ]
  },
  {
   "cell_type": "markdown",
   "metadata": {},
   "source": []
  }
 ],
 "metadata": {
  "anaconda-cloud": {},
  "kernelspec": {
   "display_name": "Python [default]",
   "language": "python",
   "name": "python2"
  },
  "language_info": {
   "codemirror_mode": {
    "name": "ipython",
    "version": 2
   },
   "file_extension": ".py",
   "mimetype": "text/x-python",
   "name": "python",
   "nbconvert_exporter": "python",
   "pygments_lexer": "ipython2",
   "version": "2.7.12"
  }
 },
 "nbformat": 4,
 "nbformat_minor": 1
}
